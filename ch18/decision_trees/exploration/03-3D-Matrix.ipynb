{
 "cells": [
  {
   "cell_type": "markdown",
   "metadata": {},
   "source": [
    "### Test How 3D Matrices Works"
   ]
  },
  {
   "cell_type": "code",
   "execution_count": 5,
   "metadata": {},
   "outputs": [],
   "source": [
    "import numpy as np\n",
    "\n",
    "X = np.random.rand(3,3)\n",
    "X_res = X.reshape(3,1,3)\n",
    "\n",
    "assert X_res[0,0,0] == X[0,0], \"Wrong\"\n",
    "assert X_res[0,0,1] == X[0,1], \"Wrong\"\n",
    "assert X_res[0,0,2] == X[0,2], \"Wrong\"\n",
    "assert X_res[1,0,0] == X[1,0], \"Wrong\"\n",
    "assert X_res[1,0,1] == X[1,1], \"Wrong\"\n",
    "assert X_res[1,0,2] == X[1,2], \"Wrong\"\n",
    "assert X_res[2,0,0] == X[2,0], \"Wrong\"\n",
    "assert X_res[2,0,1] == X[2,1], \"Wrong\"\n",
    "assert X_res[2,0,2] == X[2,2], \"Wrong\""
   ]
  },
  {
   "cell_type": "code",
   "execution_count": null,
   "metadata": {},
   "outputs": [],
   "source": []
  }
 ],
 "metadata": {
  "kernelspec": {
   "display_name": "ml",
   "language": "python",
   "name": "python3"
  },
  "language_info": {
   "codemirror_mode": {
    "name": "ipython",
    "version": 3
   },
   "file_extension": ".py",
   "mimetype": "text/x-python",
   "name": "python",
   "nbconvert_exporter": "python",
   "pygments_lexer": "ipython3",
   "version": "3.11.7"
  }
 },
 "nbformat": 4,
 "nbformat_minor": 2
}
