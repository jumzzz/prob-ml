{
 "cells": [
  {
   "cell_type": "markdown",
   "metadata": {},
   "source": [
    "### Test How 3D Matrices Works"
   ]
  },
  {
   "cell_type": "code",
   "execution_count": 5,
   "metadata": {},
   "outputs": [],
   "source": [
    "import numpy as np\n",
    "\n",
    "X = np.random.rand(3,3)\n",
    "X_res = X.reshape(3,1,3)\n",
    "\n",
    "assert X_res[0,0,0] == X[0,0], \"Wrong\"\n",
    "assert X_res[0,0,1] == X[0,1], \"Wrong\"\n",
    "assert X_res[0,0,2] == X[0,2], \"Wrong\"\n",
    "assert X_res[1,0,0] == X[1,0], \"Wrong\"\n",
    "assert X_res[1,0,1] == X[1,1], \"Wrong\"\n",
    "assert X_res[1,0,2] == X[1,2], \"Wrong\"\n",
    "assert X_res[2,0,0] == X[2,0], \"Wrong\"\n",
    "assert X_res[2,0,1] == X[2,1], \"Wrong\"\n",
    "assert X_res[2,0,2] == X[2,2], \"Wrong\""
   ]
  },
  {
   "cell_type": "markdown",
   "metadata": {},
   "source": [
    "```text\n",
    "Step 1:\n",
    "\n",
    "(2x2) (2x1) -> (2x1)\n",
    "*----------* *-----*\n",
    "| a00, a01 | | b00 |\n",
    "| a10, a11 | | b01 |\n",
    "*----------* *-----*\n",
    "\n",
    "Step 2:\n",
    "c_ij =  a_ik * b_kj \n",
    "*-----------------------*\n",
    "| a00 * b00 + a01 * b01 |\n",
    "| a10 * b00 + a11 * b01 |\n",
    "*-----------------------* \n",
    "```"
   ]
  },
  {
   "cell_type": "markdown",
   "metadata": {},
   "source": [
    "### For 3D Matrix\n",
    "Given the following:\n",
    "```python\n",
    "d1 = 2\n",
    "d2 = 3\n",
    "d3 = 4\n",
    "\n",
    "sample_mat = np.stack( d1 * [ np.arange(1, d2 * d3 + 1).reshape(d2, d3) ]) \n",
    "print(sample_mat.shape)\n",
    "```\n",
    "\n",
    "This will result to `(d1, d2, d3) == (2, 3, 4)`"
   ]
  },
  {
   "cell_type": "code",
   "execution_count": 37,
   "metadata": {},
   "outputs": [
    {
     "name": "stdout",
     "output_type": "stream",
     "text": [
      "True\n"
     ]
    }
   ],
   "source": [
    "d1 = 2\n",
    "d2 = 3\n",
    "d3 = 4\n",
    "\n",
    "sample_mat = np.stack( d1 * [ np.arange(1, d2 * d3 + 1).reshape(d2, d3)])\n",
    "\n",
    "print((d1, d2, d3) == sample_mat.shape)\n",
    "assert (d1, d2, d3) == sample_mat.shape, \"Wrong\""
   ]
  },
  {
   "cell_type": "code",
   "execution_count": 38,
   "metadata": {},
   "outputs": [
    {
     "name": "stdout",
     "output_type": "stream",
     "text": [
      "(3, 2, 4)\n",
      "(2, 3, 4)\n",
      "(3, 5, 5)\n"
     ]
    }
   ],
   "source": [
    "r00 = np.stack( 3 * [ np.arange(1,9).reshape(2,4)])\n",
    "r01 = np.stack( 2 * [ np.arange(1,13).reshape(3,4)])\n",
    "r02 = np.stack( 3 * [ np.arange(1,26).reshape(5,5)])\n",
    "\n",
    "print(r00.shape)\n",
    "print(r01.shape)\n",
    "print(r02.shape)"
   ]
  },
  {
   "cell_type": "code",
   "execution_count": 45,
   "metadata": {},
   "outputs": [
    {
     "data": {
      "text/plain": [
       "True"
      ]
     },
     "execution_count": 45,
     "metadata": {},
     "output_type": "execute_result"
    }
   ],
   "source": [
    "4 * 4 * 4 == 8 * 8"
   ]
  },
  {
   "cell_type": "code",
   "execution_count": 46,
   "metadata": {},
   "outputs": [
    {
     "name": "stdout",
     "output_type": "stream",
     "text": [
      "[[ 0  1  2  3  4  5  6  7]\n",
      " [ 8  9 10 11 12 13 14 15]\n",
      " [16 17 18 19 20 21 22 23]\n",
      " [24 25 26 27 28 29 30 31]\n",
      " [32 33 34 35 36 37 38 39]\n",
      " [40 41 42 43 44 45 46 47]\n",
      " [48 49 50 51 52 53 54 55]\n",
      " [56 57 58 59 60 61 62 63]]\n",
      "[[ 0  1  2  3]\n",
      " [ 4  5  6  7]\n",
      " [ 8  9 10 11]\n",
      " [12 13 14 15]]\n",
      "[[16 17 18 19]\n",
      " [20 21 22 23]\n",
      " [24 25 26 27]\n",
      " [28 29 30 31]]\n",
      "[[32 33 34 35]\n",
      " [36 37 38 39]\n",
      " [40 41 42 43]\n",
      " [44 45 46 47]]\n",
      "[[48 49 50 51]\n",
      " [52 53 54 55]\n",
      " [56 57 58 59]\n",
      " [60 61 62 63]]\n"
     ]
    }
   ],
   "source": [
    "X0 = np.arange(0, 2 * 4 * 8).reshape(8, 8)\n",
    "X1 = X0.reshape(4, 4, 4)\n",
    "\n",
    "print(X0)\n",
    "\n",
    "for i in range(0, 4):\n",
    "    print(X1[i,:,:])"
   ]
  },
  {
   "cell_type": "code",
   "execution_count": null,
   "metadata": {},
   "outputs": [],
   "source": []
  },
  {
   "cell_type": "markdown",
   "metadata": {},
   "source": []
  }
 ],
 "metadata": {
  "kernelspec": {
   "display_name": "ml",
   "language": "python",
   "name": "python3"
  },
  "language_info": {
   "codemirror_mode": {
    "name": "ipython",
    "version": 3
   },
   "file_extension": ".py",
   "mimetype": "text/x-python",
   "name": "python",
   "nbconvert_exporter": "python",
   "pygments_lexer": "ipython3",
   "version": "3.11.7"
  }
 },
 "nbformat": 4,
 "nbformat_minor": 2
}
