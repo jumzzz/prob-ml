{
 "cells": [
  {
   "cell_type": "markdown",
   "metadata": {},
   "source": [
    "### Exploring Splitting with Gini Index and Entropy\n",
    "- This will be repurposed from Decision Tree Classifiers"
   ]
  },
  {
   "cell_type": "code",
   "execution_count": 1,
   "metadata": {},
   "outputs": [],
   "source": [
    "from dataclasses import dataclass\n",
    "from sklearn.datasets import load_iris\n",
    "import numpy as np\n",
    "import matplotlib.pyplot as plt"
   ]
  },
  {
   "cell_type": "code",
   "execution_count": null,
   "metadata": {},
   "outputs": [],
   "source": [
    "data = load_iris()\n",
    "X,y = data['data'], data['target']"
   ]
  },
  {
   "cell_type": "markdown",
   "metadata": {},
   "source": [
    "### Implementing Equation 18.5 \n",
    "\n",
    "The goal of a Decision Tree is to find feature $j_i$ and threshold $t_i$ that minimizes the weighted sum of the cost of Left Subtree $c(D^L_i(j,t))$ and Right Subtree $c(D^R_i(j,t))$\n",
    "\n",
    "Or more precisely\n",
    "> $(j_i, t_i) = \\arg \\min_{j \\in \\{1,..,D\\}} \\min_{t \\in T_j} \\frac{|D^L_i (j,t)|}{|D_i|} c(D^L_i(j,t)) + \\frac{|D^R_i (j,t)|}{|D_i|} c(D^R_i(j,t))$\n",
    "\n",
    "We're implementing the equation above."
   ]
  },
  {
   "cell_type": "markdown",
   "metadata": {},
   "source": [
    "### Gini Index \n",
    "\n",
    "For classification, we first compute the empirical distribution over class labels for this node: \n",
    "\n",
    "> $\\hat{\\pi_{ic}} = \\frac{1}{ | D_i |} \\sum_{n \\in D_i}\\mathbb{ I(y_n = c) }$\n",
    "\n",
    "Given this, we can then compute the **Gini Index**\n",
    "\n",
    "> $G_i = \\sum_{c=1}^{C} \\hat{\\pi_{ic}} (1 - \\hat{\\pi_{ic}}) = \\sum_{c=1}^C \\hat{\\pi_{ic}} - \\sum_{c=1}^C \\hat{\\pi_{ic}}^2 = 1 - \\sum_{c=1} \\hat{\\pi_{ic}}^2$"
   ]
  },
  {
   "cell_type": "markdown",
   "metadata": {},
   "source": []
  }
 ],
 "metadata": {
  "kernelspec": {
   "display_name": "ml",
   "language": "python",
   "name": "python3"
  },
  "language_info": {
   "codemirror_mode": {
    "name": "ipython",
    "version": 3
   },
   "file_extension": ".py",
   "mimetype": "text/x-python",
   "name": "python",
   "nbconvert_exporter": "python",
   "pygments_lexer": "ipython3",
   "version": "3.11.7"
  }
 },
 "nbformat": 4,
 "nbformat_minor": 2
}
