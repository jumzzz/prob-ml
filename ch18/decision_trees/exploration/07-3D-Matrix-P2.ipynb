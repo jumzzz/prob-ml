{
 "cells": [
  {
   "cell_type": "code",
   "execution_count": 3,
   "metadata": {},
   "outputs": [],
   "source": [
    "import numpy as np\n",
    "import matplotlib.pyplot as plt "
   ]
  },
  {
   "cell_type": "code",
   "execution_count": 4,
   "metadata": {},
   "outputs": [
    {
     "name": "stdout",
     "output_type": "stream",
     "text": [
      "[1, 1, 0, 0, 0, 0]\n",
      "[0, 0, 1, 1, 0, 0]\n",
      "[0, 0, 0, 0, 1, 1]\n"
     ]
    }
   ],
   "source": [
    "y0 = 2 * [1] + 4 * [0]\n",
    "y1 = 2 * [0] + 2 * [1] + 2 * [0]\n",
    "y2 = 4 * [0] + 2 * [1]\n",
    "\n",
    "print(y0)\n",
    "print(y1)\n",
    "print(y2)"
   ]
  },
  {
   "cell_type": "code",
   "execution_count": 5,
   "metadata": {},
   "outputs": [
    {
     "data": {
      "text/plain": [
       "array([[1, 0, 0],\n",
       "       [1, 0, 0],\n",
       "       [0, 1, 0],\n",
       "       [0, 1, 0],\n",
       "       [0, 0, 1],\n",
       "       [0, 0, 1]])"
      ]
     },
     "execution_count": 5,
     "metadata": {},
     "output_type": "execute_result"
    }
   ],
   "source": [
    "y_one_hot = np.stack([y0, y1, y2], axis=1)\n",
    "y_one_hot"
   ]
  },
  {
   "cell_type": "code",
   "execution_count": 14,
   "metadata": {},
   "outputs": [
    {
     "name": "stdout",
     "output_type": "stream",
     "text": [
      "page_one =  [1 1 0 0 0 0]\n",
      "page_two =  [0 0 1 1 0 0]\n",
      "page_three =  [0 0 0 0 1 1]\n"
     ]
    }
   ],
   "source": [
    "y_oh_3d = y_one_hot.reshape(y_one_hot.shape[0], 1, -1)\n",
    "\n",
    "page_one = 0\n",
    "page_two = 1\n",
    "page_three = 2\n",
    "\n",
    "print('page_one = ', y_oh_3d[:,0, page_one])\n",
    "print('page_two = ', y_oh_3d[:,0, page_two])\n",
    "print('page_three = ', y_oh_3d[:,0, page_three])"
   ]
  },
  {
   "cell_type": "code",
   "execution_count": 29,
   "metadata": {},
   "outputs": [
    {
     "name": "stdout",
     "output_type": "stream",
     "text": [
      "[[1 0 0]\n",
      " [1 0 0]\n",
      " [0 1 0]\n",
      " [0 1 0]\n",
      " [0 0 1]\n",
      " [0 0 1]]\n",
      "---------------------\n",
      "[[1 0 0]\n",
      " [1 0 0]\n",
      " [0 1 0]\n",
      " [0 1 0]\n",
      " [0 0 1]\n",
      " [0 0 1]]\n",
      "---------------------\n",
      "[[1 0 0]\n",
      " [1 0 0]\n",
      " [0 1 0]\n",
      " [0 1 0]\n",
      " [0 0 1]\n",
      " [0 0 1]]\n",
      "---------------------\n",
      "[[1 0 0]\n",
      " [1 0 0]\n",
      " [0 1 0]\n",
      " [0 1 0]\n",
      " [0 0 1]\n",
      " [0 0 1]]\n"
     ]
    }
   ],
   "source": [
    "num_thresh = 4\n",
    "y_oh_3d = np.stack( num_thresh * [y_one_hot], axis=1)\n",
    "# y_oh_3d.shape\n",
    "# print(y_oh_3d)\n",
    "# print(y_one_hot)\n",
    "# print(y_oh_3d)\n",
    "\n",
    "# print(y_oh_3d.shape)\n",
    "# y_oh_3d = y_one_hot.reshape(y_one_hot.shape[0], 1, -1)\n",
    "print(y_oh_3d[:,0,:])\n",
    "print('---------------------')\n",
    "print(y_oh_3d[:,1,:])\n",
    "\n",
    "print('---------------------')\n",
    "print(y_oh_3d[:,2, :])\n",
    "\n",
    "print('---------------------')\n",
    "print(y_oh_3d[:,3, :])\n"
   ]
  },
  {
   "cell_type": "code",
   "execution_count": null,
   "metadata": {},
   "outputs": [],
   "source": []
  }
 ],
 "metadata": {
  "kernelspec": {
   "display_name": "ml",
   "language": "python",
   "name": "python3"
  },
  "language_info": {
   "codemirror_mode": {
    "name": "ipython",
    "version": 3
   },
   "file_extension": ".py",
   "mimetype": "text/x-python",
   "name": "python",
   "nbconvert_exporter": "python",
   "pygments_lexer": "ipython3",
   "version": "3.11.7"
  }
 },
 "nbformat": 4,
 "nbformat_minor": 2
}
