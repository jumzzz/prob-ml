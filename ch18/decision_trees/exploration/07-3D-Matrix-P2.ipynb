{
 "cells": [
  {
   "cell_type": "code",
   "execution_count": 2,
   "metadata": {},
   "outputs": [],
   "source": [
    "import numpy as np\n",
    "import matplotlib.pyplot as plt "
   ]
  },
  {
   "cell_type": "code",
   "execution_count": 3,
   "metadata": {},
   "outputs": [
    {
     "name": "stdout",
     "output_type": "stream",
     "text": [
      "[1, 1, 0, 0, 0, 0]\n",
      "[0, 0, 1, 1, 0, 0]\n",
      "[0, 0, 0, 0, 1, 1]\n"
     ]
    }
   ],
   "source": [
    "y0 = 2 * [1] + 4 * [0]\n",
    "y1 = 2 * [0] + 2 * [1] + 2 * [0]\n",
    "y2 = 4 * [0] + 2 * [1]\n",
    "\n",
    "print(y0)\n",
    "print(y1)\n",
    "print(y2)"
   ]
  },
  {
   "cell_type": "code",
   "execution_count": 4,
   "metadata": {},
   "outputs": [
    {
     "data": {
      "text/plain": [
       "array([[1, 0, 0],\n",
       "       [1, 0, 0],\n",
       "       [0, 1, 0],\n",
       "       [0, 1, 0],\n",
       "       [0, 0, 1],\n",
       "       [0, 0, 1]])"
      ]
     },
     "execution_count": 4,
     "metadata": {},
     "output_type": "execute_result"
    }
   ],
   "source": [
    "y_one_hot = np.stack([y0, y1, y2], axis=1)\n",
    "y_one_hot"
   ]
  },
  {
   "cell_type": "code",
   "execution_count": 20,
   "metadata": {},
   "outputs": [
    {
     "name": "stdout",
     "output_type": "stream",
     "text": [
      "y_one_hot.shape =  (6, 3)\n",
      "-----------------\n",
      "page_one.shape = (6, 4)\n",
      "page_one = \n",
      " [[1 1 1 1]\n",
      " [1 1 1 1]\n",
      " [0 0 0 0]\n",
      " [0 0 0 0]\n",
      " [0 0 0 0]\n",
      " [0 0 0 0]]\n",
      "-----------------\n",
      "page_two.shape = (6, 4)\n",
      "page_two = \n",
      " [[0 0 0 0]\n",
      " [0 0 0 0]\n",
      " [1 1 1 1]\n",
      " [1 1 1 1]\n",
      " [0 0 0 0]\n",
      " [0 0 0 0]]\n",
      "-----------------\n",
      "page_three.shape = (6, 4)\n",
      "page_three = \n",
      " [[0 0 0 0]\n",
      " [0 0 0 0]\n",
      " [0 0 0 0]\n",
      " [0 0 0 0]\n",
      " [1 1 1 1]\n",
      " [1 1 1 1]]\n",
      "-----------------\n"
     ]
    }
   ],
   "source": [
    "# This is it!\n",
    "print('y_one_hot.shape = ', y_one_hot.shape)\n",
    "num_thresh = 4\n",
    "\n",
    "y_oh_3d = np.stack(num_thresh * [y_one_hot], axis=1)\n",
    "\n",
    "page_one = 0\n",
    "page_two = 1\n",
    "page_three = 2\n",
    "\n",
    "print('-----------------')\n",
    "print('page_one.shape =', y_oh_3d[:,:, page_one].shape)\n",
    "print('page_one = \\n', y_oh_3d[:,:, page_one])\n",
    "print('-----------------')\n",
    "print('page_two.shape =', y_oh_3d[:,:, page_two].shape)\n",
    "print('page_two = \\n', y_oh_3d[:,:, page_two])\n",
    "print('-----------------')\n",
    "print('page_three.shape =', y_oh_3d[:,:, page_three].shape)\n",
    "print('page_three = \\n', y_oh_3d[:,:, page_three])\n",
    "print('-----------------')"
   ]
  },
  {
   "cell_type": "code",
   "execution_count": 29,
   "metadata": {},
   "outputs": [
    {
     "name": "stdout",
     "output_type": "stream",
     "text": [
      "y_one_hot.shape =  (6, 3)\n",
      "-----------------\n",
      "feat_one.shape = (6, 3)\n",
      "feat_one = \n",
      " [[1 0 0]\n",
      " [1 0 0]\n",
      " [0 1 0]\n",
      " [0 1 0]\n",
      " [0 0 1]\n",
      " [0 0 1]]\n",
      "-----------------\n",
      "feat_two.shape = (6, 3)\n",
      "feat_two = \n",
      " [[1 0 0]\n",
      " [1 0 0]\n",
      " [0 1 0]\n",
      " [0 1 0]\n",
      " [0 0 1]\n",
      " [0 0 1]]\n",
      "-----------------\n",
      "feat_three.shape = (6, 3)\n",
      "feat_three = \n",
      " [[1 0 0]\n",
      " [1 0 0]\n",
      " [0 1 0]\n",
      " [0 1 0]\n",
      " [0 0 1]\n",
      " [0 0 1]]\n"
     ]
    }
   ],
   "source": [
    "print('y_one_hot.shape = ', y_one_hot.shape)\n",
    "\n",
    "feat_one = 0\n",
    "feat_two = 1\n",
    "feat_three = 2\n",
    "\n",
    "print('-----------------')\n",
    "print('feat_one.shape =', y_oh_3d[:,feat_one, :].shape)\n",
    "print('feat_one = \\n', y_oh_3d[:,feat_one, :])\n",
    "\n",
    "print('-----------------')\n",
    "print('feat_two.shape =', y_oh_3d[:,feat_two, :].shape)\n",
    "print('feat_two = \\n', y_oh_3d[:,feat_two, :])\n",
    "\n",
    "print('-----------------')\n",
    "print('feat_three.shape =', y_oh_3d[:,feat_three, :].shape)\n",
    "print('feat_three = \\n', y_oh_3d[:,feat_three, :])\n",
    "\n",
    "\n"
   ]
  },
  {
   "cell_type": "code",
   "execution_count": null,
   "metadata": {},
   "outputs": [],
   "source": []
  },
  {
   "cell_type": "code",
   "execution_count": null,
   "metadata": {},
   "outputs": [],
   "source": []
  }
 ],
 "metadata": {
  "kernelspec": {
   "display_name": "ml",
   "language": "python",
   "name": "python3"
  },
  "language_info": {
   "codemirror_mode": {
    "name": "ipython",
    "version": 3
   },
   "file_extension": ".py",
   "mimetype": "text/x-python",
   "name": "python",
   "nbconvert_exporter": "python",
   "pygments_lexer": "ipython3",
   "version": "3.11.7"
  }
 },
 "nbformat": 4,
 "nbformat_minor": 2
}
