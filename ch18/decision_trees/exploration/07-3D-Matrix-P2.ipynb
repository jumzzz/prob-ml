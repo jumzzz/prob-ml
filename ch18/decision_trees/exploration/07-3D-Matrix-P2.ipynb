{
 "cells": [
  {
   "cell_type": "code",
   "execution_count": 9,
   "metadata": {},
   "outputs": [],
   "source": [
    "import numpy as np\n",
    "import matplotlib.pyplot as plt "
   ]
  },
  {
   "cell_type": "code",
   "execution_count": 10,
   "metadata": {},
   "outputs": [
    {
     "name": "stdout",
     "output_type": "stream",
     "text": [
      "[1, 1, 0, 0, 0, 0]\n",
      "[0, 0, 1, 1, 0, 0]\n",
      "[0, 0, 0, 0, 1, 1]\n"
     ]
    }
   ],
   "source": [
    "y0 = 2 * [1] + 4 * [0]\n",
    "y1 = 2 * [0] + 2 * [1] + 2 * [0]\n",
    "y2 = 4 * [0] + 2 * [1]\n",
    "\n",
    "print(y0)\n",
    "print(y1)\n",
    "print(y2)"
   ]
  },
  {
   "cell_type": "code",
   "execution_count": 11,
   "metadata": {},
   "outputs": [
    {
     "data": {
      "text/plain": [
       "array([[1, 0, 0],\n",
       "       [1, 0, 0],\n",
       "       [0, 1, 0],\n",
       "       [0, 1, 0],\n",
       "       [0, 0, 1],\n",
       "       [0, 0, 1]])"
      ]
     },
     "execution_count": 11,
     "metadata": {},
     "output_type": "execute_result"
    }
   ],
   "source": [
    "y_one_hot = np.stack([y0, y1, y2], axis=1)\n",
    "y_one_hot"
   ]
  },
  {
   "cell_type": "code",
   "execution_count": 12,
   "metadata": {},
   "outputs": [
    {
     "name": "stdout",
     "output_type": "stream",
     "text": [
      "y_one_hot.shape =  (6, 3)\n",
      "-----------------\n",
      "page_one.shape = (6, 4)\n",
      "page_one = \n",
      " [[1 1 1 1]\n",
      " [1 1 1 1]\n",
      " [0 0 0 0]\n",
      " [0 0 0 0]\n",
      " [0 0 0 0]\n",
      " [0 0 0 0]]\n",
      "-----------------\n",
      "page_two.shape = (6, 4)\n",
      "page_two = \n",
      " [[0 0 0 0]\n",
      " [0 0 0 0]\n",
      " [1 1 1 1]\n",
      " [1 1 1 1]\n",
      " [0 0 0 0]\n",
      " [0 0 0 0]]\n",
      "-----------------\n",
      "page_three.shape = (6, 4)\n",
      "page_three = \n",
      " [[0 0 0 0]\n",
      " [0 0 0 0]\n",
      " [0 0 0 0]\n",
      " [0 0 0 0]\n",
      " [1 1 1 1]\n",
      " [1 1 1 1]]\n",
      "-----------------\n"
     ]
    }
   ],
   "source": [
    "# This is it!\n",
    "print('y_one_hot.shape = ', y_one_hot.shape)\n",
    "num_thresh = 4\n",
    "y_oh_3d = np.stack(num_thresh * [y_one_hot], axis=1)\n",
    "\n",
    "page_one = 0\n",
    "page_two = 1\n",
    "page_three = 2\n",
    "\n",
    "print('-----------------')\n",
    "print('page_one.shape =', y_oh_3d[:,:, page_one].shape)\n",
    "print('page_one = \\n', y_oh_3d[:,:, page_one])\n",
    "print('-----------------')\n",
    "print('page_two.shape =', y_oh_3d[:,:, page_two].shape)\n",
    "print('page_two = \\n', y_oh_3d[:,:, page_two])\n",
    "print('-----------------')\n",
    "print('page_three.shape =', y_oh_3d[:,:, page_three].shape)\n",
    "print('page_three = \\n', y_oh_3d[:,:, page_three])\n",
    "print('-----------------')"
   ]
  },
  {
   "cell_type": "code",
   "execution_count": 13,
   "metadata": {},
   "outputs": [
    {
     "name": "stdout",
     "output_type": "stream",
     "text": [
      "y_one_hot.shape =  (6, 3)\n",
      "-----------------\n",
      "feat_one.shape = (6, 3)\n",
      "feat_one = \n",
      " [[1 0 0]\n",
      " [1 0 0]\n",
      " [0 1 0]\n",
      " [0 1 0]\n",
      " [0 0 1]\n",
      " [0 0 1]]\n",
      "-----------------\n",
      "feat_two.shape = (6, 3)\n",
      "feat_two = \n",
      " [[1 0 0]\n",
      " [1 0 0]\n",
      " [0 1 0]\n",
      " [0 1 0]\n",
      " [0 0 1]\n",
      " [0 0 1]]\n",
      "-----------------\n",
      "feat_three.shape = (6, 3)\n",
      "feat_three = \n",
      " [[1 0 0]\n",
      " [1 0 0]\n",
      " [0 1 0]\n",
      " [0 1 0]\n",
      " [0 0 1]\n",
      " [0 0 1]]\n"
     ]
    }
   ],
   "source": [
    "print('y_one_hot.shape = ', y_one_hot.shape)\n",
    "\n",
    "feat_one = 0\n",
    "feat_two = 1\n",
    "feat_three = 2\n",
    "\n",
    "print('-----------------')\n",
    "print('feat_one.shape =', y_oh_3d[:,feat_one, :].shape)\n",
    "print('feat_one = \\n', y_oh_3d[:,feat_one, :])\n",
    "\n",
    "print('-----------------')\n",
    "print('feat_two.shape =', y_oh_3d[:,feat_two, :].shape)\n",
    "print('feat_two = \\n', y_oh_3d[:,feat_two, :])\n",
    "\n",
    "print('-----------------')\n",
    "print('feat_three.shape =', y_oh_3d[:,feat_three, :].shape)\n",
    "print('feat_three = \\n', y_oh_3d[:,feat_three, :])\n",
    "\n",
    "\n"
   ]
  },
  {
   "cell_type": "markdown",
   "metadata": {},
   "source": [
    "#### Comments:\n",
    "- We can multiply this with a threshold mask which has the size of `N x t x c`.\n",
    "- `N` is the number of features.\n",
    "- `t` is the number of thresholds.\n",
    "- `c` is the number of classes."
   ]
  },
  {
   "cell_type": "code",
   "execution_count": 14,
   "metadata": {},
   "outputs": [],
   "source": [
    "from dataclasses import dataclass\n",
    "from sklearn.datasets import load_iris\n",
    "import numpy as np\n",
    "import matplotlib.pyplot as plt"
   ]
  },
  {
   "cell_type": "code",
   "execution_count": 15,
   "metadata": {},
   "outputs": [],
   "source": [
    "data = load_iris()\n",
    "X,y = data['data'], data['target']"
   ]
  },
  {
   "cell_type": "code",
   "execution_count": 17,
   "metadata": {},
   "outputs": [],
   "source": [
    "feat_index = 1\n",
    "\n",
    "thresh = np.unique(X[:,feat_index]).reshape(1,-1)\n",
    "selected_feat = X[:,feat_index].reshape(-1,1)\n",
    "is_left_sampler = (selected_feat <= thresh)\n",
    "is_right_sampler = ~is_left_sampler"
   ]
  },
  {
   "cell_type": "code",
   "execution_count": 18,
   "metadata": {},
   "outputs": [
    {
     "name": "stdout",
     "output_type": "stream",
     "text": [
      "(150, 23)\n",
      "(150, 23)\n"
     ]
    }
   ],
   "source": [
    "print(is_left_sampler.shape)\n",
    "print(is_right_sampler.shape)"
   ]
  },
  {
   "cell_type": "code",
   "execution_count": 19,
   "metadata": {},
   "outputs": [
    {
     "name": "stdout",
     "output_type": "stream",
     "text": [
      "y_one_hot.shape =  (150, 3)\n",
      "num_cats =  3\n"
     ]
    }
   ],
   "source": [
    "def one_hot_encode(y):\n",
    "    num_cats = np.unique(y).shape[0]\n",
    "    return np.eye(num_cats)[y], num_cats\n",
    "\n",
    "y_one_hot, num_cats = one_hot_encode(y)\n",
    "print('y_one_hot.shape = ', y_one_hot.shape)\n",
    "print('num_cats = ', num_cats)"
   ]
  },
  {
   "cell_type": "code",
   "execution_count": 25,
   "metadata": {},
   "outputs": [
    {
     "name": "stdout",
     "output_type": "stream",
     "text": [
      "(150, 23, 3)\n"
     ]
    }
   ],
   "source": [
    "num_thresh = is_left_sampler.shape[1]\n",
    "y_oh_3d = np.stack(num_thresh * [y_one_hot], axis=1)\n",
    "print(y_oh_3d.shape)"
   ]
  },
  {
   "cell_type": "code",
   "execution_count": 32,
   "metadata": {},
   "outputs": [
    {
     "data": {
      "image/png": "[encoded data removed]",
      "text/plain": [
       "<Figure size 640x480 with 1 Axes>"
      ]
     },
     "metadata": {},
     "output_type": "display_data"
    }
   ],
   "source": [
    "import matplotlib.pyplot as plt\n",
    "\n",
    "figsize=(7,5)\n",
    "\n",
    "plt.style.use('ggplot')\n",
    "plt.plot(np.arange(y.shape[0]), y)\n",
    "plt.title('Distribution of Labels (0,1,2)')\n",
    "plt.xlabel('Sample Index')\n",
    "plt.ylabel('Target Variables')\n",
    "plt.show()"
   ]
  },
  {
   "cell_type": "code",
   "execution_count": 29,
   "metadata": {},
   "outputs": [
    {
     "name": "stdout",
     "output_type": "stream",
     "text": [
      "y_oh_3d.shape =  (150, 23, 3)\n",
      "min_segment =  50\n",
      "max_segment =  53\n",
      "y_oh_3d(page_zero): \n",
      " [[0. 0. 0.]\n",
      " [0. 0. 0.]\n",
      " [0. 0. 0.]]\n",
      "--------------------------------\n",
      "y_oh_3d(page_one): \n",
      " [[1. 1. 1.]\n",
      " [1. 1. 1.]\n",
      " [1. 1. 1.]]\n",
      "--------------------------------\n",
      "y_oh_3d(page_two): \n",
      " [[0. 0. 0.]\n",
      " [0. 0. 0.]\n",
      " [0. 0. 0.]]\n",
      "--------------------------------\n"
     ]
    }
   ],
   "source": [
    "row_min_seg = 50\n",
    "row_max_seg = row_min_seg + 3\n",
    "\n",
    "max_num_thresh = y_oh_3d.shape[1]\n",
    "\n",
    "thresh_min_seg = max_num_thresh // 2\n",
    "thresh_max_seg = thresh_min_seg + 3\n",
    "\n",
    "print('y_oh_3d.shape = ', y_oh_3d.shape)\n",
    "print('min_segment = ', row_min_seg)\n",
    "print('max_segment = ', row_max_seg)\n",
    "\n",
    "print('y_oh_3d(page_zero): \\n', y_oh_3d[row_min_seg:row_max_seg, thresh_min_seg:thresh_max_seg, 0])\n",
    "print('--------------------------------')\n",
    "print('y_oh_3d(page_one): \\n', y_oh_3d[row_min_seg:row_max_seg, thresh_min_seg:thresh_max_seg, 1])\n",
    "print('--------------------------------')\n",
    "print('y_oh_3d(page_two): \\n', y_oh_3d[row_min_seg:row_max_seg, thresh_min_seg:thresh_max_seg, 2])\n",
    "print('--------------------------------')"
   ]
  },
  {
   "cell_type": "code",
   "execution_count": 15,
   "metadata": {},
   "outputs": [
    {
     "name": "stdout",
     "output_type": "stream",
     "text": [
      "(150, 35, 3)\n",
      "(150, 35, 3)\n"
     ]
    }
   ],
   "source": [
    "is_left_sampler_3d = np.stack(num_cats * [ is_left_sampler ], axis=2)\n",
    "is_right_sampler_3d = np.stack(num_cats * [ is_right_sampler ], axis=2)\n",
    "\n",
    "print(is_left_sampler_3d.shape)\n",
    "print(is_right_sampler_3d.shape)"
   ]
  },
  {
   "cell_type": "code",
   "execution_count": 20,
   "metadata": {},
   "outputs": [
    {
     "name": "stdout",
     "output_type": "stream",
     "text": [
      "is_left_sampler_3d (page_zero): \n",
      " [[False False False]\n",
      " [False False False]\n",
      " [ True  True  True]]\n",
      "--------------------------------\n",
      "is_left_sampler_3d (page_one): \n",
      " [[False False False]\n",
      " [False False False]\n",
      " [ True  True  True]]\n",
      "--------------------------------\n",
      "is_left_sampler_3d (page_two): \n",
      " [[False False False]\n",
      " [False False False]\n",
      " [ True  True  True]]\n",
      "--------------------------------\n"
     ]
    }
   ],
   "source": [
    "row_min_seg = 4\n",
    "row_max_seg = row_min_seg + 3\n",
    "\n",
    "print('is_left_sampler_3d (page_zero): \\n', is_left_sampler_3d[row_min_seg:row_max_seg, row_min_seg:row_max_seg, 0])\n",
    "print('--------------------------------')\n",
    "print('is_left_sampler_3d (page_one): \\n', is_left_sampler_3d[row_min_seg:row_max_seg, row_min_seg:row_max_seg, 1])\n",
    "print('--------------------------------')\n",
    "print('is_left_sampler_3d (page_two): \\n', is_left_sampler_3d[row_min_seg:row_max_seg, row_min_seg:row_max_seg, 2])\n",
    "print('--------------------------------')"
   ]
  },
  {
   "cell_type": "code",
   "execution_count": 21,
   "metadata": {},
   "outputs": [
    {
     "name": "stdout",
     "output_type": "stream",
     "text": [
      "is_right_sampler_3d (page_zero): \n",
      " [[ True  True  True]\n",
      " [ True  True  True]\n",
      " [False False False]]\n",
      "--------------------------------\n",
      "is_right_sampler_3d (page_one): \n",
      " [[ True  True  True]\n",
      " [ True  True  True]\n",
      " [False False False]]\n",
      "--------------------------------\n",
      "is_right_sampler_3d (page_two): \n",
      " [[ True  True  True]\n",
      " [ True  True  True]\n",
      " [False False False]]\n",
      "--------------------------------\n"
     ]
    }
   ],
   "source": [
    "print('is_right_sampler_3d (page_zero): \\n', is_right_sampler_3d[row_min_seg:row_max_seg, row_min_seg:row_max_seg, 0])\n",
    "print('--------------------------------')\n",
    "print('is_right_sampler_3d (page_one): \\n', is_right_sampler_3d[row_min_seg:row_max_seg, row_min_seg:row_max_seg, 1])\n",
    "print('--------------------------------')\n",
    "print('is_right_sampler_3d (page_two): \\n', is_right_sampler_3d[row_min_seg:row_max_seg, row_min_seg:row_max_seg, 2])\n",
    "print('--------------------------------')"
   ]
  },
  {
   "cell_type": "code",
   "execution_count": null,
   "metadata": {},
   "outputs": [],
   "source": []
  },
  {
   "cell_type": "code",
   "execution_count": null,
   "metadata": {},
   "outputs": [],
   "source": [
    "\n"
   ]
  },
  {
   "cell_type": "code",
   "execution_count": null,
   "metadata": {},
   "outputs": [],
   "source": []
  }
 ],
 "metadata": {
  "kernelspec": {
   "display_name": "ml",
   "language": "python",
   "name": "python3"
  },
  "language_info": {
   "codemirror_mode": {
    "name": "ipython",
    "version": 3
   },
   "file_extension": ".py",
   "mimetype": "text/x-python",
   "name": "python",
   "nbconvert_exporter": "python",
   "pygments_lexer": "ipython3",
   "version": "3.11.7"
  }
 },
 "nbformat": 4,
 "nbformat_minor": 2
}
