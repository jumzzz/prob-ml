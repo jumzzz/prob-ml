{
 "cells": [
  {
   "cell_type": "markdown",
   "metadata": {},
   "source": [
    "\n",
    "### Calculation of Cost\n",
    "\n",
    "For classification, we first compute the empirical distribution over class labels for this node: \n",
    "\n",
    "> $\\hat{\\pi_{ic}} = \\frac{1}{ | D_i |} \\sum_{n \\in D_i}\\mathbb{ I(y_n = c) }$\n",
    "\n",
    "Given this, we can then compute the **Gini Index**\n",
    "\n",
    "> $G_i = \\sum_{c=1}^{C} \\hat{\\pi_{ic}} (1 - \\hat{\\pi_{ic}}) = \\sum_{c=1}^C \\hat{\\pi_{ic}} - \\sum_{c=1}^C \\hat{\\pi_{ic}}^2 = 1 - \\sum_{c=1} \\hat{\\pi_{ic}}^2$\n",
    "\n",
    "\n",
    "#### Simple Justification of Gini Index\n",
    "\n",
    "**As the Number of Correct Classifications Increases, then:**\n",
    "\n",
    "> $\\lim_{\\hat{\\pi_{ic}} \\to 1} G_i = 0$\n",
    "\n",
    "**As the Number of Incorrect Classification Decreases, then:**\n",
    "\n",
    "> $\\lim_{\\hat{\\pi_{ic}} \\to 0} G_i = 1$\n",
    "\n",
    "#### Simple Justification of Entropy as Cost Function\n",
    "It seems using Entropy has more obvious principled approach\n",
    "\n",
    "**Since:**\n",
    "\n",
    "$H(Y|X) \\le H(Y)$\n",
    "\n",
    "**Where:**\n",
    "\n",
    "$Y : $ Number of Correct Labels\n",
    "\n",
    "$X = X_j <= t : $ Instances sampled by threshold $t$\n",
    "\n",
    "$H(Y) : $ Entropy of Labels just randomly sampled independently.\n",
    "\n",
    "$H(Y | X_j <= t) : $ Entropy of Labels sampled by thresholding.\n",
    "\n",
    "**Then:**\n",
    "\n",
    "Using Entropy $H(Y | X_j <= t)$ only means that you are searching for the right threshold $t$ for each feature $j$ that pushes $H(Y | X_j <= t)$ farther apart. $\\square$\n",
    "\n"
   ]
  },
  {
   "cell_type": "markdown",
   "metadata": {},
   "source": []
  }
 ],
 "metadata": {
  "language_info": {
   "name": "python"
  }
 },
 "nbformat": 4,
 "nbformat_minor": 2
}
