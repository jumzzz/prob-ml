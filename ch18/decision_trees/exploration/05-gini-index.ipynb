{
 "cells": [
  {
   "cell_type": "markdown",
   "metadata": {},
   "source": [
    "\n",
    "### Calculation of Cost\n",
    "\n",
    "For classification, we first compute the empirical distribution over class labels for this node: \n",
    "\n",
    "$\\hat{\\pi_{ic}} = \\frac{1}{ | D_i |} \\sum_{n \\in D_i}\\mathbb{ I(y_n = c) }$\n",
    "\n",
    "Given this, we can then compute the **Gini Index**\n",
    "\n",
    "$G_i = \\sum_{c=1}^{C} \\hat{\\pi_{ic}} (1 - \\hat{\\pi_{ic}}) = \\sum_{c=1}^C \\hat{\\pi_{ic}} - \\sum_{c=1}^C \\hat{\\pi_{ic}}^2 = 1 - \\sum_{c=1} \\hat{\\pi_{ic}}^2$"
   ]
  },
  {
   "cell_type": "markdown",
   "metadata": {},
   "source": []
  }
 ],
 "metadata": {
  "language_info": {
   "name": "python"
  }
 },
 "nbformat": 4,
 "nbformat_minor": 2
}
