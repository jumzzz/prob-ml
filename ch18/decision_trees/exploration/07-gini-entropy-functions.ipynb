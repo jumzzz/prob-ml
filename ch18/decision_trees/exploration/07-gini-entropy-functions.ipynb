{
 "cells": [
  {
   "cell_type": "markdown",
   "metadata": {},
   "source": [
    "### Refactoring Notebook\n",
    "- This is to verify if we are properly abstracting the functions necessary for Decision Tree Classifier like class probabilities, gini index, and entropy"
   ]
  },
  {
   "cell_type": "code",
   "execution_count": 1,
   "metadata": {},
   "outputs": [],
   "source": [
    "from dataclasses import dataclass\n",
    "from sklearn.datasets import load_iris\n",
    "import numpy as np\n",
    "import matplotlib.pyplot as plt"
   ]
  },
  {
   "cell_type": "code",
   "execution_count": 29,
   "metadata": {},
   "outputs": [],
   "source": [
    "def get_one_hot_encode(y):\n",
    "    num_categories = np.unique(y).shape[0]\n",
    "    return np.eye(num_categories)[y], num_categories\n",
    "\n",
    "def stack_target_wrt_thresh(y_one_hot, unique_thresholds):\n",
    "    num_thresholds = unique_thresholds.shape[1]\n",
    "    return np.stack(num_thresholds * [y_one_hot], axis=1)\n",
    "\n",
    "def get_unique_thresholds(X, feature_index):\n",
    "    return np.unique(X[:,feature_index]).reshape(1,-1)\n",
    "\n",
    "def get_left_right_samplers(X, unique_thresholds, feature_index):\n",
    "    selected_features = X[:, feature_index].reshape(-1,1)\n",
    "    left_sampler = selected_features <= unique_thresholds\n",
    "    right_sampler = ~left_sampler\n",
    "    return left_sampler, right_sampler\n",
    "\n",
    "def get_class_probabilities(y_one_hot_3d, sampler_mask, num_categories):\n",
    "    sampler_mask_3d = np.stack(num_categories * [sampler_mask], axis=2)\n",
    "    \n",
    "    sampled = sampler_mask_3d * y_one_hot_3d\n",
    "    num_sampled = np.sum(sampler_mask, axis=0)\n",
    "    num_sampled = np.stack( \n",
    "        num_categories * [ np.sum(sampler_mask, axis=0) ], \n",
    "        axis=1\n",
    "    )\n",
    "    indicator_sum = np.sum(sampled, axis=0)\n",
    "\n",
    "    class_probs = np.where(num_sampled == 0, 0, indicator_sum / num_sampled)\n",
    "    return class_probs \n",
    "\n",
    "def get_gini_index(class_probs):\n",
    "    return 1 - np.sum(class_probs ** 2, axis=1)\n",
    "\n",
    "def get_entropy(class_probs):\n",
    "    inv_prob = np.where(class_probs > 0.0, 1 / class_probs, 0.0)\n",
    "    log_prob = np.where(inv_prob > 0.0, np.log2(inv_prob), 0.0)\n",
    "\n",
    "    return np.sum(class_probs * log_prob, axis=1)\n",
    "\n"
   ]
  },
  {
   "cell_type": "code",
   "execution_count": 26,
   "metadata": {},
   "outputs": [],
   "source": [
    "data = load_iris()\n",
    "X,y = data['data'], data['target']"
   ]
  },
  {
   "cell_type": "code",
   "execution_count": 27,
   "metadata": {},
   "outputs": [
    {
     "name": "stdout",
     "output_type": "stream",
     "text": [
      "sampler_mask_3d.shape =  (150, 43, 3)\n",
      "sampled.shape =  (150, 43, 3)\n",
      "num_sampled.shape =  (43, 3)\n",
      "indicator_sum.shape =  (43, 3)\n"
     ]
    }
   ],
   "source": [
    "feature_index = 2\n",
    "unique_thresholds = get_unique_thresholds(X, feature_index)\n",
    "left_sampler, right_sampler = get_left_right_samplers(X, unique_thresholds, feature_index)\n",
    "y_one_hot, num_categories = get_one_hot_encode(y)\n",
    "y_one_hot_3d = stack_target_wrt_thresh(y_one_hot, unique_thresholds)\n",
    "\n",
    "# print(left_sampler.shape)\n",
    "class_probs_left = get_class_probabilities(y_one_hot_3d, left_sampler, num_categories)\n",
    "# class_probs_right = get_class_probabilities(y_one_hot_3d, right_sampler, num_categories)"
   ]
  },
  {
   "cell_type": "code",
   "execution_count": null,
   "metadata": {},
   "outputs": [],
   "source": []
  }
 ],
 "metadata": {
  "kernelspec": {
   "display_name": "ml",
   "language": "python",
   "name": "python3"
  },
  "language_info": {
   "codemirror_mode": {
    "name": "ipython",
    "version": 3
   },
   "file_extension": ".py",
   "mimetype": "text/x-python",
   "name": "python",
   "nbconvert_exporter": "python",
   "pygments_lexer": "ipython3",
   "version": "3.11.7"
  }
 },
 "nbformat": 4,
 "nbformat_minor": 2
}
