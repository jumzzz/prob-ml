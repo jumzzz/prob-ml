{
 "cells": [
  {
   "cell_type": "markdown",
   "metadata": {},
   "source": [
    "### Refactoring Notebook\n",
    "- This is to verify if we are properly abstracting the functions necessary for Decision Tree Classifier like class probabilities, gini index, and entropy"
   ]
  },
  {
   "cell_type": "code",
   "execution_count": 1,
   "metadata": {},
   "outputs": [],
   "source": [
    "from dataclasses import dataclass\n",
    "from sklearn.datasets import load_iris\n",
    "import numpy as np\n",
    "import matplotlib.pyplot as plt"
   ]
  },
  {
   "cell_type": "code",
   "execution_count": 5,
   "metadata": {},
   "outputs": [],
   "source": [
    "def one_hot_encode(y):\n",
    "    num_categories = np.unique(y).shape[0]\n",
    "    return np.eye(num_categories)[y], num_categories"
   ]
  },
  {
   "cell_type": "code",
   "execution_count": 6,
   "metadata": {},
   "outputs": [],
   "source": [
    "def unique_thresholds(X, feat_index):\n",
    "    return np.unique(X[:,feat_index]).reshape(1,-1)\n",
    "\n",
    "def class_probabilities(y_one_hot_3d, sampler_mask, num_categories):\n",
    "    sampler_mask_3d = np.stack(num_categories * [sampler_mask], axis=2)\n",
    "    sampled = sampler_mask_3d * y_one_hot_3d\n",
    "    num_sampled = np.sum(sampler_mask, axis=0)\n",
    "    indicator_sum = np.sum(sampled, axis=0)\n",
    "    class_probs = np.where(num_sampled == 0, 0, indicator_sum / num_sampled)\n",
    "    return class_probs \n",
    "\n",
    "def gini_index(class_probs):\n",
    "    return 1 - np.sum(class_probs ** 2, axis=1)\n",
    "\n",
    "def entropy(class_probs):\n",
    "    inv_prob = np.where(class_probs > 0.0, 1 / class_probs, 0.0)\n",
    "    log_prob = np.where(inv_prob > 0.0, np.log2(inv_prob), 0.0)\n",
    "\n",
    "    return np.sum(class_probs * log_prob, axis=1)"
   ]
  },
  {
   "cell_type": "code",
   "execution_count": null,
   "metadata": {},
   "outputs": [],
   "source": []
  }
 ],
 "metadata": {
  "kernelspec": {
   "display_name": "ml",
   "language": "python",
   "name": "python3"
  },
  "language_info": {
   "codemirror_mode": {
    "name": "ipython",
    "version": 3
   },
   "file_extension": ".py",
   "mimetype": "text/x-python",
   "name": "python",
   "nbconvert_exporter": "python",
   "pygments_lexer": "ipython3",
   "version": "3.11.7"
  }
 },
 "nbformat": 4,
 "nbformat_minor": 2
}
