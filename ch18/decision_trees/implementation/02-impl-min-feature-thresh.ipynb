{
 "cells": [
  {
   "cell_type": "code",
   "execution_count": 154,
   "metadata": {},
   "outputs": [],
   "source": [
    "import numpy as np\n",
    "import matplotlib.pyplot as plt\n",
    "from sklearn.datasets import load_diabetes\n",
    "import pandas as pd\n",
    "\n",
    "def split_by_min_thresh(X, y, feat_index, partition_mask=None):\n",
    "    thresh = np.unique(X[:,feat_index]).reshape(1,-1)\n",
    "    selected_feat = X[:,feat_index].reshape(-1,1)\n",
    "    is_left_sampler = (selected_feat <= thresh)\n",
    "    is_right_sampler = ~is_left_sampler\n",
    "\n",
    "    if partition_mask is not None:\n",
    "        partition_mask = np.hstack(is_left_sampler.shape[1] * [partition_mask.reshape(-1,1)])\n",
    "        is_left_sampler = is_left_sampler & partition_mask\n",
    "        is_right_sampler = is_right_sampler & partition_mask\n",
    "    \n",
    "    stacked_targets = np.hstack([y.reshape(-1,1)] * is_left_sampler.shape[1])\n",
    "    left_sampled, right_sampled = is_left_sampler * stacked_targets, is_right_sampler * stacked_targets\n",
    "\n",
    "    n_samples_left, n_samples_right = np.sum(is_left_sampler, axis=0), np.sum(is_right_sampler, axis=0)\n",
    "\n",
    "    with np.errstate(divide='ignore', invalid='ignore'):\n",
    "        left_samples_mean = np.where(n_samples_left == 0, 0, np.sum(left_sampled, axis=0) / n_samples_left)\n",
    "        right_samples_mean = np.where(n_samples_right == 0, 0, np.sum(right_sampled, axis=0) / n_samples_right)\n",
    "    \n",
    "    var_left = is_left_sampler * (left_sampled - left_samples_mean.reshape(1,-1)) ** 2\n",
    "    var_right = (is_right_sampler) * (right_sampled - right_samples_mean.reshape(1,-1)) ** 2\n",
    "\n",
    "    with np.errstate(divide='ignore', invalid='ignore'):\n",
    "        var_left = np.where(n_samples_left == 0, 0, np.sum(var_left, axis=0) / n_samples_left)\n",
    "        var_right = np.where(n_samples_right == 0, 0, np.sum(var_right, axis=0) / n_samples_right)\n",
    "\n",
    "    total_samples = left_sampled.shape[0]\n",
    "    assert total_samples == right_sampled.shape[0], 'wrong total samples'\n",
    "\n",
    "    ratio_left, ratio_right = n_samples_left / total_samples, n_samples_right / total_samples\n",
    "    thresh_cost = ratio_left * var_left + ratio_right * var_right\n",
    "    min_thresh_index = np.argmin(thresh_cost)\n",
    "\n",
    "    min_cost = np.min(thresh_cost)\n",
    "    # left_indices = np.nonzero(is_left_sampler[:, min_thresh_index])[0]\n",
    "    # right_indices = np.nonzero(~is_left_sampler[:, min_thresh_index])[0]\n",
    "    left_partition_mask = is_left_sampler[:, min_thresh_index]\n",
    "    right_partition_mask = is_right_sampler[:, min_thresh_index]\n",
    "    left_count = np.sum(is_left_sampler[:, min_thresh_index])\n",
    "    right_count = np.sum(is_right_sampler[:, min_thresh_index])    \n",
    "    min_thresh = thresh.reshape(-1)[min_thresh_index]\n",
    "\n",
    "    return left_partition_mask, right_partition_mask, left_count, right_count, min_cost, min_thresh\n",
    "\n",
    "def split_by_min_feat_thresh(X, y, partition):\n",
    "    feat_count = X.shape[1]\n",
    "    data_count = X.shape[0]\n",
    "\n",
    "    min_left_partition, min_right_partition, min_left_count, min_right_count, min_cost, min_thresh = split_by_min_thresh(X, y, 0, partition)\n",
    "    min_feat_index = 0\n",
    "\n",
    "    for feat_index in range(1, feat_count):\n",
    "        left_partition, right_partition, left_count, right_count, cost, thresh = split_by_min_thresh(X, y, feat_index, partition)\n",
    "        # print(f'[{feat_index}/{feat_count}] cost = {cost}, thresh = {thresh}')\n",
    "        # assert left_count + right_count == data_count, 'left_count + right_count != data_count'\n",
    "        if min_cost > cost:\n",
    "            min_left_partition = left_partition\n",
    "            min_right_partition = right_partition \n",
    "            min_left_count = left_count\n",
    "            min_right_count = right_count\n",
    "            min_cost = cost\n",
    "            min_thresh = thresh\n",
    "            min_feat_index = feat_index\n",
    "\n",
    "    return min_left_partition, min_right_partition, min_left_count, min_right_count, min_feat_index, min_cost, min_thresh\n",
    "    "
   ]
  },
  {
   "cell_type": "code",
   "execution_count": 155,
   "metadata": {},
   "outputs": [
    {
     "name": "stdout",
     "output_type": "stream",
     "text": [
      "[1/10] right_count = 224, cost = 4201.076466066314, feat_index = 8, thresh = -0.00422151393810765\n",
      "current_count = 224\n",
      "[2/10] right_count = 108, cost = 2097.272926382459, feat_index = 2, thresh = 0.014272475267928093\n",
      "current_count = 108\n",
      "[3/10] right_count = 31, cost = 840.5301832891967, feat_index = 2, thresh = 0.0681630789619681\n",
      "current_count = 31\n",
      "[4/10] right_count = 12, cost = 98.02914384377232, feat_index = 5, thresh = 0.02154596028441731\n",
      "current_count = 12\n",
      "[5/10] right_count = 11, cost = 23.75277663512957, feat_index = 4, thresh = 0.014942474478202204\n",
      "current_count = 11\n",
      "[6/10] right_count = 10, cost = 14.32601809954751, feat_index = 6, thresh = -0.06180903467245962\n",
      "current_count = 10\n",
      "[7/10] right_count = 8, cost = 8.091628959276019, feat_index = 4, thresh = 0.02182223876920781\n",
      "current_count = 8\n",
      "[8/10] right_count = 3, cost = 3.916742081447964, feat_index = 9, thresh = 0.040343371647878594\n",
      "current_count = 3\n",
      "[9/10] right_count = 1, cost = 0.1911764705882353, feat_index = 0, thresh = -0.03820740103798481\n",
      "current_count = 1\n"
     ]
    }
   ],
   "source": [
    "data = load_diabetes()\n",
    "X,y = data['data'], data['target']\n",
    "\n",
    "current_right_partition = None\n",
    "min_count = 1\n",
    "partition_lists_right = []\n",
    "current_count = X.shape[0]\n",
    "current_depth = 1\n",
    "max_depth = 10\n",
    "\n",
    "while current_count > min_count and max_depth > current_depth: \n",
    "    left_partition, right_partition, left_count, right_count, feat_index, cost, thresh = split_by_min_feat_thresh(X,y, current_right_partition)\n",
    "\n",
    "    # if current_depth > 1:\n",
    "        # break\n",
    "    \n",
    "    print(f'[{current_depth}/{max_depth}] right_count = {right_count}, cost = {cost}, feat_index = {feat_index}, thresh = {thresh}')\n",
    "    current_count = right_count\n",
    "    partition_lists_right.append(right_partition.reshape(-1,1))\n",
    "    current_right_partition = right_partition\n",
    "    current_depth += 1\n",
    "    print(f'current_count = {current_count}')\n"
   ]
  },
  {
   "cell_type": "code",
   "execution_count": 159,
   "metadata": {},
   "outputs": [
    {
     "name": "stdout",
     "output_type": "stream",
     "text": [
      "(442, 9)\n"
     ]
    },
    {
     "data": {
      "text/plain": [
       "['x0', 'x1', 'x2', 'x3', 'x4', 'x5', 'x6', 'x7', 'x8']"
      ]
     },
     "execution_count": 159,
     "metadata": {},
     "output_type": "execute_result"
    }
   ],
   "source": [
    "data_partitions_right = np.hstack(partition_lists_right)\n",
    "print(data_partitions_right.shape)\n",
    "\n",
    "right_feat_cols = [f'x{count}' for count in range(0, data_partitions_right.shape[1])] \n",
    "cols = right_feat_cols + ['y']\n",
    "data_partitions_right = np.hstack([data_partitions_right, y.reshape(-1,1)])\n",
    "data_partitions_right = pd.DataFrame(data_partitions_right, columns=cols)\n",
    "data_partitions_right = data_partitions_right.sort_values(by='y')\n",
    "right_feat_cols"
   ]
  },
  {
   "cell_type": "code",
   "execution_count": 160,
   "metadata": {},
   "outputs": [
    {
     "name": "stdout",
     "output_type": "stream",
     "text": [
      "[1/10] left_count = 218, right_count = 224, cost = 4201.076466066314, feat_index = 8, thresh = -0.00422151393810765\n",
      "current_count = 218\n",
      "[2/10] left_count = 171, right_count = 47, cost = 1262.7771702932755, feat_index = 2, thresh = 0.005649978676881689\n",
      "current_count = 171\n",
      "[3/10] left_count = 87, right_count = 84, cost = 766.8987277935046, feat_index = 6, thresh = 0.019186997017453092\n",
      "current_count = 87\n",
      "[4/10] left_count = 85, right_count = 2, cost = 480.77132020228925, feat_index = 4, thresh = 0.04934129593323023\n",
      "current_count = 85\n",
      "[5/10] left_count = 39, right_count = 46, cost = 451.91980810847633, feat_index = 1, thresh = -0.044641636506989144\n",
      "current_count = 39\n",
      "[6/10] left_count = 21, right_count = 18, cost = 225.88041370394313, feat_index = 3, thresh = -0.03665608107540074\n",
      "current_count = 21\n",
      "[7/10] left_count = 8, right_count = 13, cost = 80.05186216498434, feat_index = 0, thresh = -0.052737554842062495\n",
      "current_count = 8\n",
      "[8/10] left_count = 1, right_count = 7, cost = 21.152553329023917, feat_index = 3, thresh = -0.10895595156823522\n",
      "current_count = 1\n"
     ]
    }
   ],
   "source": [
    "data = load_diabetes()\n",
    "X,y = data['data'], data['target']\n",
    "\n",
    "current_left_partition = None\n",
    "min_count = 1\n",
    "partition_lists_left = []\n",
    "current_count = X.shape[0]\n",
    "current_depth = 1\n",
    "max_depth = 10\n",
    "\n",
    "while current_count > min_count and max_depth > current_depth: \n",
    "    left_partition, right_partition, left_count, right_count, feat_index, cost, thresh = split_by_min_feat_thresh(X,y, current_left_partition)\n",
    "\n",
    "    print(f'[{current_depth}/{max_depth}] left_count = {left_count}, right_count = {right_count}, cost = {cost}, feat_index = {feat_index}, thresh = {thresh}')\n",
    "    current_count = left_count\n",
    "    partition_lists_left.append(left_partition.reshape(-1,1))\n",
    "    current_left_partition = left_partition\n",
    "    current_depth += 1\n",
    "    print(f'current_count = {current_count}')"
   ]
  },
  {
   "cell_type": "code",
   "execution_count": 161,
   "metadata": {},
   "outputs": [],
   "source": [
    "data_partitions_left = np.hstack(partition_lists_left)\n",
    "\n",
    "left_feat_cols = [f'x{count}' for count in range(0, data_partitions_left.shape[1])] \n",
    "cols = left_feat_cols + ['y']\n",
    "data_partitions_left = np.hstack([data_partitions_left, y.reshape(-1,1)])\n",
    "data_partitions_left = pd.DataFrame(data_partitions_left, columns=cols)\n",
    "data_partitions_left = data_partitions_left.sort_values(by='y')\n",
    "# feat_cols\n"
   ]
  },
  {
   "cell_type": "code",
   "execution_count": 163,
   "metadata": {},
   "outputs": [
    {
     "data": {
      "image/png": "[encoded data removed]",
      "text/plain": [
       "<Figure size 500x2000 with 2 Axes>"
      ]
     },
     "metadata": {},
     "output_type": "display_data"
    }
   ],
   "source": [
    "figsize = (5,20)\n",
    "fig, (axs1, axs2) = plt.subplots(1, 2, figsize=figsize)\n",
    "axs1.imshow(data_partitions_left[left_feat_cols])\n",
    "axs1.set_title('Left Subtree')\n",
    "axs2.imshow(data_partitions_right[right_feat_cols])\n",
    "axs2.set_title('Right Subtree')\n",
    "plt.show()"
   ]
  },
  {
   "cell_type": "code",
   "execution_count": null,
   "metadata": {},
   "outputs": [],
   "source": []
  }
 ],
 "metadata": {
  "kernelspec": {
   "display_name": "ml",
   "language": "python",
   "name": "python3"
  },
  "language_info": {
   "codemirror_mode": {
    "name": "ipython",
    "version": 3
   },
   "file_extension": ".py",
   "mimetype": "text/x-python",
   "name": "python",
   "nbconvert_exporter": "python",
   "pygments_lexer": "ipython3",
   "version": "3.11.7"
  }
 },
 "nbformat": 4,
 "nbformat_minor": 2
}
