{
 "cells": [
  {
   "cell_type": "code",
   "execution_count": 8,
   "metadata": {},
   "outputs": [],
   "source": [
    "import numpy as np\n",
    "import matplotlib.pyplot as plt\n",
    "from sklearn.datasets import load_diabetes\n",
    "\n",
    "def split_by_min_thresh(X, y, feat_index, partition_mask=None):\n",
    "    thresh = np.unique(X[:,feat_index]).reshape(1,-1)\n",
    "    selected_feat = X[:,feat_index].reshape(-1,1)\n",
    "    is_left_sampler = (selected_feat <= thresh)\n",
    "    is_right_sampler = ~is_left_sampler \n",
    "\n",
    "    if partition_mask:\n",
    "        is_left_sampler = is_left_sampler & partition_mask\n",
    "\n",
    "    stacked_targets = np.hstack([y.reshape(-1,1)] * is_left_sampler.shape[1])\n",
    "    left_sampled, right_sampled = is_left_sampler * stacked_targets, is_right_sampler * stacked_targets\n",
    "\n",
    "    n_samples_left, n_samples_right = np.sum(is_left_sampler, axis=0), np.sum(is_right_sampler, axis=0)\n",
    "\n",
    "    with np.errstate(divide='ignore', invalid='ignore'):\n",
    "        left_samples_mean = np.where(n_samples_left == 0, 0, np.sum(left_sampled, axis=0) / n_samples_left)\n",
    "        right_samples_mean = np.where(n_samples_right == 0, 0, np.sum(right_sampled, axis=0) / n_samples_right)\n",
    "    \n",
    "    var_left = is_left_sampler * (left_sampled - left_samples_mean.reshape(1,-1)) ** 2\n",
    "    var_right = (~is_left_sampler) * (right_sampled - right_samples_mean.reshape(1,-1)) ** 2\n",
    "\n",
    "    with np.errstate(divide='ignore', invalid='ignore'):\n",
    "        var_left = np.where(n_samples_left == 0, 0, np.sum(var_left, axis=0) / n_samples_left)\n",
    "        var_right = np.where(n_samples_right == 0, 0, np.sum(var_right, axis=0) / n_samples_right)\n",
    "\n",
    "    total_samples = left_sampled.shape[0]\n",
    "    assert total_samples == right_sampled.shape[0], 'wrong total samples'\n",
    "\n",
    "    ratio_left, ratio_right = n_samples_left / total_samples, n_samples_right / total_samples\n",
    "    thresh_cost = ratio_left * var_left + ratio_right * var_right\n",
    "    min_thresh_index = np.argmin(thresh_cost)\n",
    "\n",
    "    min_cost = np.min(thresh_cost)\n",
    "    # left_indices = np.nonzero(is_left_sampler[:, min_thresh_index])[0]\n",
    "    # right_indices = np.nonzero(~is_left_sampler[:, min_thresh_index])[0]\n",
    "    left_partition_mask = is_left_sampler[:, min_thresh_index]\n",
    "    right_partition_mask = is_right_sampler[:, min_thresh_index]\n",
    "    left_count = np.sum(is_left_sampler[:, min_thresh_index])\n",
    "    right_count = np.sum(is_right_sampler[:, min_thresh_index])    \n",
    "    min_thresh = thresh.reshape(-1)[min_thresh_index]\n",
    "\n",
    "    return left_partition_mask, right_partition_mask, left_count, right_count, min_cost, min_thresh\n",
    "\n",
    "def split_by_min_feat_thresh(X, y):\n",
    "    feat_count = X.shape[1]\n",
    "    data_count = X.shape[0]\n",
    "\n",
    "    min_left_count, min_right_count, min_cost, min_thresh = split_by_min_thresh(X, y, 0)\n",
    "    min_feat_index = 0\n",
    "\n",
    "    for feat_index in range(1, feat_count):\n",
    "        left_count, right_count, cost, thresh = split_by_min_thresh(X, y, feat_index)\n",
    "        print(f'[{feat_index}/{feat_count}] cost = {cost}, thresh = {thresh}')\n",
    "        assert left_count + right_count == data_count, 'left_count + right_count != data_count'\n",
    "        if min_cost > cost:\n",
    "            min_left_count = left_count\n",
    "            min_right_count = right_count\n",
    "            min_cost = cost\n",
    "            min_thresh = thresh\n",
    "            min_feat_index = feat_index\n",
    "\n",
    "    return min_left_count, min_right_count, min_feat_index, min_cost, min_thresh\n",
    "    "
   ]
  },
  {
   "cell_type": "code",
   "execution_count": null,
   "metadata": {},
   "outputs": [],
   "source": []
  },
  {
   "cell_type": "code",
   "execution_count": 9,
   "metadata": {},
   "outputs": [
    {
     "name": "stdout",
     "output_type": "stream",
     "text": [
      "[1/10] cost = 5918.888899586022, thresh = -0.044641636506989144\n",
      "[2/10] cost = 4279.164764194539, thresh = 0.008883414898524095\n",
      "[3/10] cost = 4919.231731635831, thresh = 0.0218723855140367\n",
      "[4/10] cost = 5572.695496316517, thresh = 0.005310804470794357\n",
      "[5/10] cost = 5658.358681622334, thresh = 0.017161881819363848\n",
      "[6/10] cost = 5046.367625854413, thresh = -0.01762938102341632\n",
      "[7/10] cost = 4866.073277556504, thresh = -0.014400620678474476\n",
      "[8/10] cost = 4201.076466066314, thresh = -0.00422151393810765\n",
      "[9/10] cost = 5157.83877572983, thresh = 0.03205915781820968\n"
     ]
    },
    {
     "data": {
      "text/plain": [
       "(218, 224, 8, 4201.076466066314, -0.00422151393810765)"
      ]
     },
     "execution_count": 9,
     "metadata": {},
     "output_type": "execute_result"
    }
   ],
   "source": [
    "data = load_diabetes()\n",
    "X,y = data['data'], data['target']\n",
    "\n",
    "split_by_min_feat_thresh(X,y)\n",
    "# feat_count = X.shape[1]\n",
    "# total_data = X.shape[0]\n",
    "# min_left_indices, min_right_indices, min_cost, min_thresh = split_by_min_thresh(X, y, 0)\n",
    "# min_feat_index = 0\n",
    "\n",
    "# for feat_index in range(1, feat_count):\n",
    "#     left_indices, right_indices, cost, thresh = split_by_min_thresh(X, y, feat_index)\n",
    "    \n",
    "#     print(f'[{feat_index}/{feat_count}] cost = {cost}, thresh = {thresh}')\n",
    "    \n",
    "#     assert left_indices.shape[0] + right_indices.shape[0] == total_data, 'fail'    \n",
    "#     if min_cost > cost:\n",
    "#         min_left_indices = left_indices\n",
    "#         min_right_indices = right_indices\n",
    "#         min_cost = cost\n",
    "#         min_thresh = thresh\n",
    "#         min_feat_index = feat_index\n",
    "\n"
   ]
  },
  {
   "cell_type": "code",
   "execution_count": null,
   "metadata": {},
   "outputs": [],
   "source": []
  },
  {
   "cell_type": "code",
   "execution_count": null,
   "metadata": {},
   "outputs": [],
   "source": []
  }
 ],
 "metadata": {
  "kernelspec": {
   "display_name": "ml",
   "language": "python",
   "name": "python3"
  },
  "language_info": {
   "codemirror_mode": {
    "name": "ipython",
    "version": 3
   },
   "file_extension": ".py",
   "mimetype": "text/x-python",
   "name": "python",
   "nbconvert_exporter": "python",
   "pygments_lexer": "ipython3",
   "version": "3.11.7"
  }
 },
 "nbformat": 4,
 "nbformat_minor": 2
}
