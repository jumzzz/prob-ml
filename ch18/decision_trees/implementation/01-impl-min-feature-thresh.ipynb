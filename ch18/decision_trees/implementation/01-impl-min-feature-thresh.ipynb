{
 "cells": [
  {
   "cell_type": "code",
   "execution_count": 59,
   "metadata": {},
   "outputs": [],
   "source": [
    "import numpy as np\n",
    "import matplotlib.pyplot as plt\n",
    "from sklearn.datasets import load_diabetes\n",
    "\n",
    "def split_by_min_thresh(X, y, feat_index):\n",
    "    thresh = np.unique(X[:,feat_index]).reshape(1,-1)\n",
    "    selected_feat = X[:,feat_index].reshape(-1,1)\n",
    "    is_left_sampler = (selected_feat <= thresh)\n",
    "    stacked_targets = np.hstack([y.reshape(-1,1)] * is_left_sampler.shape[1])\n",
    "    left_sampled, right_sampled = is_left_sampler * stacked_targets, (~is_left_sampler) * stacked_targets\n",
    "\n",
    "    n_samples_left, n_samples_right = np.sum(is_left_sampler, axis=0), np.sum(~is_left_sampler, axis=0)\n",
    "\n",
    "    with np.errstate(divide='ignore', invalid='ignore'):\n",
    "        left_samples_mean = np.where(n_samples_left == 0, 0, np.sum(left_sampled, axis=0) / n_samples_left)\n",
    "        right_samples_mean = np.where(n_samples_right == 0, 0, np.sum(right_sampled, axis=0) / n_samples_right)\n",
    "    \n",
    "    var_left = (left_sampled - left_samples_mean.reshape(1,-1)) ** 2\n",
    "    var_right = (right_sampled - right_samples_mean.reshape(1,-1)) ** 2\n",
    "\n",
    "    # This is important. We will be computing the wrong variance without this\n",
    "    var_left = np.where(left_sampled == 0, 0, var_left)\n",
    "    var_right = np.where(right_sampled == 0, 0, var_right)\n",
    "\n",
    "    with np.errstate(divide='ignore', invalid='ignore'):\n",
    "        var_left = np.where(n_samples_left == 0, 0, np.sum(var_left, axis=0) / n_samples_left)\n",
    "        var_right = np.where(n_samples_right == 0, 0, np.sum(var_right, axis=0) / n_samples_right)\n",
    "\n",
    "    total_samples = left_sampled.shape[0]\n",
    "    assert total_samples == right_sampled.shape[0], 'wrong total samples'\n",
    "\n",
    "    ratio_left, ratio_right = n_samples_left / total_samples, n_samples_right / total_samples\n",
    "    thresh_cost = ratio_left * var_left + ratio_right * var_right\n",
    "    min_thresh_index = np.argmin(thresh_cost)\n",
    "\n",
    "    min_cost = np.min(thresh_cost)\n",
    "    left_indices = np.nonzero(is_left_sampler[:, min_thresh_index])[0]\n",
    "    right_indices = np.nonzero(~is_left_sampler[:, min_thresh_index])[0]\n",
    "    min_thresh = thresh.reshape(-1)[min_thresh_index]\n",
    "\n",
    "    return left_indices, right_indices, min_cost, min_thresh "
   ]
  },
  {
   "cell_type": "code",
   "execution_count": null,
   "metadata": {},
   "outputs": [],
   "source": []
  },
  {
   "cell_type": "code",
   "execution_count": 65,
   "metadata": {},
   "outputs": [],
   "source": [
    "data = load_diabetes()\n",
    "X,y = data['data'], data['target']\n",
    "\n",
    "feat_count = X.shape[1]\n",
    "total_data = X.shape[0]\n",
    "min_left_indices, min_right_indices, min_cost, min_thresh = split_by_min_thresh(X, y, 0)\n",
    "min_feat_index = 0\n",
    "\n",
    "for feat_index in range(1, feat_count):\n",
    "    left_indices, right_indices, cost, thresh = split_by_min_thresh(X, y, feat_index)\n",
    "    assert left_indices.shape[0] + right_indices.shape[0] == total_data, 'fail'    \n",
    "    if min_cost > cost:\n",
    "        min_left_indices = left_indices\n",
    "        min_right_indices = right_indices\n",
    "        min_cost = cost\n",
    "        min_thresh = thresh\n",
    "        min_feat_index = feat_index\n",
    "\n"
   ]
  },
  {
   "cell_type": "code",
   "execution_count": null,
   "metadata": {},
   "outputs": [],
   "source": []
  },
  {
   "cell_type": "code",
   "execution_count": null,
   "metadata": {},
   "outputs": [],
   "source": []
  }
 ],
 "metadata": {
  "kernelspec": {
   "display_name": "ml",
   "language": "python",
   "name": "python3"
  },
  "language_info": {
   "codemirror_mode": {
    "name": "ipython",
    "version": 3
   },
   "file_extension": ".py",
   "mimetype": "text/x-python",
   "name": "python",
   "nbconvert_exporter": "python",
   "pygments_lexer": "ipython3",
   "version": "3.11.7"
  }
 },
 "nbformat": 4,
 "nbformat_minor": 2
}
