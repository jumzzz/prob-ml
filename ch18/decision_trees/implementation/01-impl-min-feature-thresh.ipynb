{
 "cells": [
  {
   "cell_type": "code",
   "execution_count": 45,
   "metadata": {},
   "outputs": [],
   "source": [
    "import numpy as np\n",
    "import matplotlib.pyplot as plt\n",
    "from sklearn.datasets import load_diabetes\n",
    "\n",
    "def split_by_min_thresh(X, y, feat_index):\n",
    "    thresh = np.unique(X[:,feat_index]).reshape(1,-1)\n",
    "    selected_feat = X[:,feat_index].reshape(-1,1)\n",
    "    is_left_sampler = (selected_feat <= thresh)\n",
    "    is_right_sampler = ~(is_left_sampler)\n",
    "    stacked_targets = np.hstack([y.reshape(-1,1)] * is_left_sampler.shape[1])\n",
    "    left_sampled, right_sampled = is_left_sampler * stacked_targets, is_right_sampler * stacked_targets\n",
    "\n",
    "    n_samples_left, n_samples_right = np.sum(is_left_sampler, axis=0), np.sum(is_right_sampler, axis=0)\n",
    "    left_samples_sum, right_samples_sum = np.sum(left_sampled, axis=0), np.sum(right_sampled, axis=0)\n",
    "\n",
    "    with np.errstate(divide='ignore', invalid='ignore'):\n",
    "        left_samples_mean = np.where(n_samples_left == 0, 0, left_samples_sum / n_samples_left)\n",
    "        right_samples_mean = np.where(n_samples_right == 0, 0, right_samples_sum / n_samples_right)\n",
    "    \n",
    "    var_left = (left_sampled - left_samples_mean.reshape(1,-1)) ** 2\n",
    "    var_right = (right_sampled - right_samples_mean.reshape(1,-1)) ** 2\n",
    "\n",
    "    # This is important. We will be computing the wrong variance without this\n",
    "    var_left = np.where(left_sampled == 0, 0, var_left)\n",
    "    var_right = np.where(right_sampled == 0, 0, var_right)\n",
    "\n",
    "    with np.errstate(divide='ignore', invalid='ignore'):\n",
    "        var_left = np.where(n_samples_left == 0, 0, np.sum(var_left, axis=0) / n_samples_left)\n",
    "        var_right = np.where(n_samples_right == 0, 0, np.sum(var_right, axis=0) / n_samples_right)\n",
    "\n",
    "    total_samples = left_sampled.shape[0]\n",
    "    assert total_samples == right_sampled.shape[0], 'wrong total samples'\n",
    "\n",
    "    ratio_left, ratio_right = n_samples_left / total_samples, n_samples_right / total_samples\n",
    "    thresh_cost = ratio_left * var_left + ratio_right * var_right\n",
    "    min_thresh_index = np.argmin(thresh_cost)\n",
    "\n",
    "    min_cost = np.min(thresh_cost)\n",
    "    left_indices = np.nonzero(is_left_sampler[:, min_thresh_index])[0]\n",
    "    right_indices = np.nonzero(is_right_sampler[:, min_thresh_index])[0]\n",
    "    min_thresh = thresh.reshape(-1)[min_thresh_index]\n",
    "\n",
    "    return left_indices, right_indices, min_cost, min_thresh "
   ]
  },
  {
   "cell_type": "code",
   "execution_count": 46,
   "metadata": {},
   "outputs": [
    {
     "name": "stdout",
     "output_type": "stream",
     "text": [
      "[0/10] left_count = 227, right_count = 215 min_cost = 5700.035157086954, min_thresh = 0.005383060374248237\n",
      "[1/10] left_count = 235, right_count = 207 min_cost = 5918.888899586022, min_thresh = -0.044641636506989144\n",
      "[2/10] left_count = 277, right_count = 165 min_cost = 4279.164764194539, min_thresh = 0.008883414898524095\n",
      "[3/10] left_count = 307, right_count = 135 min_cost = 4919.231731635831, min_thresh = 0.0218723855140367\n",
      "[4/10] left_count = 259, right_count = 183 min_cost = 5572.695496316517, min_thresh = 0.005310804470794357\n",
      "[5/10] left_count = 294, right_count = 148 min_cost = 5658.358681622334, min_thresh = 0.017161881819363848\n",
      "[6/10] left_count = 180, right_count = 262 min_cost = 5046.367625854413, min_thresh = -0.01762938102341632\n",
      "[7/10] left_count = 173, right_count = 269 min_cost = 4866.073277556504, min_thresh = -0.014400620678474476\n",
      "[8/10] left_count = 218, right_count = 224 min_cost = 4201.076466066314, min_thresh = -0.00422151393810765\n",
      "[9/10] left_count = 348, right_count = 94 min_cost = 5157.83877572983, min_thresh = 0.03205915781820968\n"
     ]
    }
   ],
   "source": [
    "data = load_diabetes()\n",
    "X,y = data['data'], data['target']\n",
    "\n",
    "feat_count = X.shape[1]\n",
    "\n",
    "for feat_index in range(feat_count):\n",
    "    left_indices, right_indices, min_cost, min_thresh = split_by_min_thresh(X, y, feat_index)\n",
    "    print(f'[{feat_index}/{feat_count}] left_count = {left_indices.shape[0]}, right_count = {right_indices.shape[0]} min_cost = {min_cost}, min_thresh = {min_thresh}')"
   ]
  },
  {
   "cell_type": "code",
   "execution_count": null,
   "metadata": {},
   "outputs": [],
   "source": []
  },
  {
   "cell_type": "code",
   "execution_count": null,
   "metadata": {},
   "outputs": [],
   "source": []
  }
 ],
 "metadata": {
  "kernelspec": {
   "display_name": "ml",
   "language": "python",
   "name": "python3"
  },
  "language_info": {
   "codemirror_mode": {
    "name": "ipython",
    "version": 3
   },
   "file_extension": ".py",
   "mimetype": "text/x-python",
   "name": "python",
   "nbconvert_exporter": "python",
   "pygments_lexer": "ipython3",
   "version": "3.11.7"
  }
 },
 "nbformat": 4,
 "nbformat_minor": 2
}
