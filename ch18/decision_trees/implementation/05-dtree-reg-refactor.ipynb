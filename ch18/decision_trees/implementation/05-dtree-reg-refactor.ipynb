{
 "cells": [
  {
   "cell_type": "markdown",
   "metadata": {},
   "source": [
    "### On Decision Tree Regressor Implementation\n",
    "#### Next Steps\n",
    "1. Perform Refactor\n",
    "- Simplify the code as much as possible. Remove all the fluff.\n",
    "- Rewrite stuff in `jax`\n",
    "2. Investigate the important hyperparameters in Decision Tree Regression on Sklearn\n",
    "- Select certain hyperparameters and implement them\n",
    "3. Figure out how to make Decision Tree faster at `min_leaves=1` "
   ]
  },
  {
   "cell_type": "markdown",
   "metadata": {},
   "source": []
  }
 ],
 "metadata": {
  "language_info": {
   "name": "python"
  }
 },
 "nbformat": 4,
 "nbformat_minor": 2
}
